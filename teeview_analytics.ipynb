{
 "cells": [
  {
   "cell_type": "markdown",
   "metadata": {},
   "source": [
    "# Teeview Analytics"
   ]
  },
  {
   "cell_type": "markdown",
   "metadata": {},
   "source": [
    "The purpose of this project is to build a simple analytics tool that allows us to keep a tab on the Teespring campaigns indexed by teeview that have potential to be successfull in order to get inspiration only from this subset. \n",
    "\n",
    "The final outcome should initially be a bot (think Slack) that informs us when a new potential successfull campaign is identified in order to jump on it right away and draw inspiration from it. The purpose of the bot is to get near real time notifications since in this cases timing is fundamental.\n",
    "\n",
    "The principles that will be used to identify the campaigns that have success potential which are the ones we need to draw attention to is basic physics principles. We will get the velocity of the campaign and its acceleration using the numerical derivative. This will produce 3 plots which are the position, velocity and acceleration of a campaign. While a successfull campaign has a good final position it should have had high velocity values and high acceleration values to reach such velocities. This is the case because the length of the campaigns is fixed. That is the equivalent to having a sprint in runners where there is a defined distance beforehand.\n",
    "\n",
    "Given this context the goal is to identify potentially successfull campaigns i.e. noticing campaigns that have the potential to be successfull before they actually succeed (since one they succeed the market will be saturated of that design and as such it will no longer represent an opportunity).\n",
    "\n",
    "In order to make this identification one needs to check the acceleration value in conjunction with the velocity. Think that there are at least 2 cases in which you would definitely would want to get a piece of the action.\n",
    "\n",
    "1. Acceleration is practically null or even negative but velocity is still quite high.\n",
    "2. Velocity is still slow but acceleration is really high.\n",
    "\n",
    "There should be a coefficient that would indicate if we should jump on a campaign or not. To be developed."
   ]
  },
  {
   "cell_type": "markdown",
   "metadata": {},
   "source": [
    "### Crawler"
   ]
  },
  {
   "cell_type": "markdown",
   "metadata": {},
   "source": [
    "First step is to crawl [https://www.teeview.org] and get the latest campaigns. Let's define the \"latest campaigns\" as the ones which have been added during the last day. We should only select those which say:\n",
    "\n",
    "1. \"31 sold, available until [Thursday!]\"\n",
    "2. \"Only 3 more needed to print!\" \n",
    "\n",
    "In order to do this we need to get the url of the campaign and go to [http://www.teespring.com] to see if this message appears on the campaign. If it does then we have data to populate our database and this url goes into the list of urls which we will follow periodically along with the time ago it was added, we will run the script periodically to get the sales data and be able to make the position, velocity and acceleration plots."
   ]
  },
  {
   "cell_type": "markdown",
   "metadata": {},
   "source": [
    "#### Import Modules"
   ]
  },
  {
   "cell_type": "code",
   "execution_count": 27,
   "metadata": {
    "collapsed": true
   },
   "outputs": [],
   "source": [
    "import requests\n",
    "from bs4 import BeautifulSoup\n",
    "import sqlite3"
   ]
  },
  {
   "cell_type": "markdown",
   "metadata": {},
   "source": [
    "#### Create Database Tables"
   ]
  },
  {
   "cell_type": "markdown",
   "metadata": {},
   "source": [
    "There should be 2 database tables. \n",
    "\n",
    "One of them will store the information of relevant campaigns, a relevant campaign is defined as that which is obtained through the \"teeview_scraper\" function and posteriorly filtered through the \"teeview_data_filter\" function (which gets all campaigns that are added within one day ago and filters only the ones which report sales data. This table will be called \"Campaigns\"\n",
    "\n",
    "The second database table will consist of the entries produced by the \"teespring_data_updater\" function which will query Teespring for each campaign in \"Campaigns\" and add the latest sales data as an entry to the table. This will be the data that will be used to plot position, velocity and acceleration. This table will be called \"SalesData\"\n",
    "\n",
    "The database as a whole should be cleaned every day or so to keep it short and running smoothly. The cleaning process will consist of going through the database to see which campaigns have ended and removing the respective rows from the \"Campaigns\" and \"SalesData\"   "
   ]
  },
  {
   "cell_type": "code",
   "execution_count": 28,
   "metadata": {
    "collapsed": false
   },
   "outputs": [
    {
     "data": {
      "text/plain": [
       "1"
      ]
     },
     "execution_count": 28,
     "metadata": {},
     "output_type": "execute_result"
    }
   ],
   "source": [
    "conn = sqlite3.connect('teeview_analytics.db')\n",
    "len(conn.execute(\"SELECT name FROM sqlite_master WHERE type='table' AND name='campaigns'\").fetchall())"
   ]
  },
  {
   "cell_type": "code",
   "execution_count": 29,
   "metadata": {
    "collapsed": false
   },
   "outputs": [],
   "source": [
    "# Connect to \"teeview_analytics\" database\n",
    "conn = sqlite3.connect('teeview_analytics.db')\n",
    "# Create \"campaigns\" table if it does not exist\n",
    "campaigns_table = conn.execute(\"SELECT name FROM sqlite_master WHERE type='table' AND name='campaigns'\").fetchall()\n",
    "if len(campaigns_table) is 0: conn.execute(\"create table campaigns(url, img_src, name, time_ago)\")\n",
    "# Create \"sales_data\" table if it does not exist\n",
    "campaigns_table = conn.execute(\"SELECT name FROM sqlite_master WHERE type='table' AND name='sales_data'\").fetchall()\n",
    "if len(campaigns_table) is 0: conn.execute(\"create table sales_data(campaign_url, sales, timestamp)\") \n",
    "# Close connection\n",
    "conn.close()"
   ]
  },
  {
   "cell_type": "code",
   "execution_count": 30,
   "metadata": {
    "collapsed": false
   },
   "outputs": [
    {
     "data": {
      "text/plain": [
       "1"
      ]
     },
     "execution_count": 30,
     "metadata": {},
     "output_type": "execute_result"
    }
   ],
   "source": [
    "conn = sqlite3.connect('teeview_analytics.db')\n",
    "len(conn.execute(\"SELECT name FROM sqlite_master WHERE type='table' AND name='campaigns'\").fetchall())"
   ]
  },
  {
   "cell_type": "markdown",
   "metadata": {},
   "source": [
    "#### Scrape Data From Teeview"
   ]
  },
  {
   "cell_type": "code",
   "execution_count": 31,
   "metadata": {
    "collapsed": false
   },
   "outputs": [],
   "source": [
    "# This function will make successive get requests to teeview and return the new campaigns that were added\n",
    "# within the last day or sooner than the latest campaign saved on the last query latest_campaign_link\n",
    "def teeview_scraper():\n",
    "    # Set variables of: first \"page\" to query, query while data is \"whithin_day\" and array to store \"teeview_data\" \n",
    "    page = 1\n",
    "    within_day = True\n",
    "    teeview_data = []\n",
    "    # Loop all campaign that were added within one day ago\n",
    "    while within_day:\n",
    "        # Form url of teeview made up of active campaigns on page \"page\" \n",
    "        url = \"https://www.teeview.org/site/index?active=true&page={0}&per-page=12\".format(page)\n",
    "        # Make request to get the page of teeview and parse it\n",
    "        response = requests.get(url)\n",
    "        html = BeautifulSoup(response.text, 'html.parser')\n",
    "        # Get links of teespring campaigns of the page queried\n",
    "        for thumbnail in html.select(\".thumbnail\"):\n",
    "            campaign_url = thumbnail.select(\"h3 a\")[0]['href']\n",
    "            campaign_time_ago = thumbnail.select(\"p.text-muted small\")[0].getText()\n",
    "            # Break the loop if we have reached the campaigns that were added longer than a day ago\n",
    "            if \"day\" in campaign_time_ago:\n",
    "                within_day = False\n",
    "                break\n",
    "            # Break the loop if we have reached the latest_campaign_queried\n",
    "                # //>> Code goes here to get latest_campaign_link from database and check if link matches,\n",
    "                # //>> if it does set within_day to False and break loop\n",
    "            # Add the campaign data to teeview_data\n",
    "            teeview_data.extend([[campaign_url, campaign_time_ago]])\n",
    "        # Increase page counter\n",
    "        page += 1\n",
    "    # Returns the gathered \"teeview_data\"\n",
    "    return teeview_data"
   ]
  },
  {
   "cell_type": "code",
   "execution_count": 32,
   "metadata": {
    "collapsed": true
   },
   "outputs": [],
   "source": [
    "# This function will go through the new campaigns returned by the \"teeview_scraper\" function\n",
    "# and for each of them request the Teespring campaign in order to find out if it is relevant\n",
    "# or not based on the fact if the campaign reports sales data or not. If it does it adds the\n",
    "# new campaign to the respective database table.\n",
    "def teeview_data_filter():\n",
    "    # //>> Code goes here\n",
    "    return True"
   ]
  },
  {
   "cell_type": "code",
   "execution_count": 33,
   "metadata": {
    "collapsed": false
   },
   "outputs": [],
   "source": [
    "# This function will go through the database table that stores the Teespring campaigns that\n",
    "# report sales data and query each of them on Teespring to get the latest info on sales which\n",
    "# will be stored as a new entry on the database table that stores the sales or \"position\" data\n",
    "# of each relevant campaign.\n",
    "def teespring_data_updater():\n",
    "    # //>> Code goes here\n",
    "    return True"
   ]
  }
 ],
 "metadata": {
  "anaconda-cloud": {},
  "kernelspec": {
   "display_name": "Python [Root]",
   "language": "python",
   "name": "Python [Root]"
  },
  "language_info": {
   "codemirror_mode": {
    "name": "ipython",
    "version": 3
   },
   "file_extension": ".py",
   "mimetype": "text/x-python",
   "name": "python",
   "nbconvert_exporter": "python",
   "pygments_lexer": "ipython3",
   "version": "3.5.2"
  }
 },
 "nbformat": 4,
 "nbformat_minor": 0
}
