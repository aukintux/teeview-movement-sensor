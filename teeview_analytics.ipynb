{
 "cells": [
  {
   "cell_type": "markdown",
   "metadata": {},
   "source": [
    "# Teeview Analytics"
   ]
  },
  {
   "cell_type": "markdown",
   "metadata": {},
   "source": [
    "The purpose of this project is to build a simple analytics tool that allows us to keep a tab on the Teespring campaigns indexed by teeview that have potential to be successfull in order to get inspiration only from this subset. \n",
    "\n",
    "The final outcome should initially be a bot (think Slack) that informs us when a new potential successfull campaign is identified in order to jump on it right away and draw inspiration from it. The purpose of the bot is to get near real time notifications since in this cases timing is fundamental.\n",
    "\n",
    "The principles that will be used to identify the campaigns that have success potential which are the ones we need to draw attention to is basic physics principles. We will get the velocity of the campaign and its acceleration using the numerical derivative. This will produce 3 plots which are the position, velocity and acceleration of a campaign. While a successfull campaign has a good final position it should have had high velocity values and high acceleration values to reach such velocities. This is the case because the length of the campaigns is fixed. That is the equivalent to having a sprint in runners where there is a defined distance beforehand.\n",
    "\n",
    "Given this context the goal is to identify potentially successfull campaigns i.e. noticing campaigns that have the potential to be successfull before they actually succeed (since one they succeed the market will be saturated of that design and as such it will no longer represent an opportunity).\n",
    "\n",
    "In order to make this identification one needs to check the acceleration value in conjunction with the velocity. Think that there are at least 2 cases in which you would definitely would want to get a piece of the action.\n",
    "\n",
    "1. Acceleration is practically null or even negative but velocity is still quite high.\n",
    "2. Velocity is still slow but acceleration is really high.\n",
    "\n",
    "There should be a coefficient that would indicate if we should jump on a campaign or not. To be developed."
   ]
  }
 ],
 "metadata": {
  "anaconda-cloud": {},
  "kernelspec": {
   "display_name": "Python [Root]",
   "language": "python",
   "name": "Python [Root]"
  },
  "language_info": {
   "codemirror_mode": {
    "name": "ipython",
    "version": 3
   },
   "file_extension": ".py",
   "mimetype": "text/x-python",
   "name": "python",
   "nbconvert_exporter": "python",
   "pygments_lexer": "ipython3",
   "version": "3.5.2"
  }
 },
 "nbformat": 4,
 "nbformat_minor": 0
}
